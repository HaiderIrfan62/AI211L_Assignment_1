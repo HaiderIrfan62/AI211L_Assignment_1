{
  "nbformat": 4,
  "nbformat_minor": 0,
  "metadata": {
    "colab": {
      "provenance": []
    },
    "kernelspec": {
      "name": "python3",
      "display_name": "Python 3"
    },
    "language_info": {
      "name": "python"
    }
  },
  "cells": [
    {
      "cell_type": "code",
      "execution_count": null,
      "metadata": {
        "colab": {
          "base_uri": "https://localhost:8080/"
        },
        "id": "2cDj5bOfwKpV",
        "outputId": "c369271e-781a-4a65-ca57-9cd53d074467"
      },
      "outputs": [
        {
          "output_type": "stream",
          "name": "stdout",
          "text": [
            "Hello World\n"
          ]
        }
      ],
      "source": [
        "print(\"Hello World\")"
      ]
    },
    {
      "cell_type": "code",
      "source": [
        "import random\n",
        "import time\n",
        "import pandas as pd"
      ],
      "metadata": {
        "id": "ellaVhS1wSN-"
      },
      "execution_count": null,
      "outputs": []
    },
    {
      "cell_type": "code",
      "source": [
        "#Task2 \n",
        "#1000\n",
        "list_1000 = []\n",
        "while(True):\n",
        "    num = random.randint(0, 1500)\n",
        "    if len(list_1000) == 1000:\n",
        "        break\n",
        "    elif num not in list_1000:\n",
        "        list_1000.append(num)\n",
        "\n"
      ],
      "metadata": {
        "id": "mYxxerQMwkvf"
      },
      "execution_count": null,
      "outputs": []
    },
    {
      "cell_type": "code",
      "source": [
        "#40,000\n",
        "list_40000 = []\n",
        "while(True):\n",
        "    num = random.randint(0, 50000)\n",
        "    if(len(list_40000) == 40000):\n",
        "        break\n",
        "    elif num not in list_40000:\n",
        "        list_40000.append(num)"
      ],
      "metadata": {
        "id": "B3Kuhs4L00U6"
      },
      "execution_count": null,
      "outputs": []
    },
    {
      "cell_type": "code",
      "source": [
        "#80,000\n",
        "list_80000 = []\n",
        "while(True):\n",
        "    num = random.randint(0, 90000)\n",
        "    if(len(list_80000) == 80000):\n",
        "        break\n",
        "    elif num not in list_80000:\n",
        "        list_80000.append(num)"
      ],
      "metadata": {
        "id": "qg5AvmS0wqAH"
      },
      "execution_count": null,
      "outputs": []
    },
    {
      "cell_type": "code",
      "source": [
        "#200,000\n",
        "list_200000 = []\n",
        "while(True):\n",
        "    num = random.randint(0, 2010000)\n",
        "    if(len(list_200000) == 200000):\n",
        "        break\n",
        "    elif num not in list_200000:\n",
        "        list_200000.append(num)"
      ],
      "metadata": {
        "id": "02fzdlulw0Yc"
      },
      "execution_count": null,
      "outputs": []
    },
    {
      "cell_type": "code",
      "source": [
        "#1,000,000\n",
        "# list_1000000 = []\n",
        "# while(True):\n",
        "#     num = random.randint(0, 921000000)\n",
        "#     if(len(list_1000000) == 1000000):\n",
        "#         break\n",
        "#     elif num not in list_1000000:\n",
        "#         list_1000000.append(num)\n",
        "\n",
        "list_1000000 = list(range(0, 1000000))\n",
        "random.shuffle(list_1000000)\n",
        "print(len(list_1000000))"
      ],
      "metadata": {
        "id": "2tlvMFuexWgB",
        "colab": {
          "base_uri": "https://localhost:8080/"
        },
        "outputId": "6a6f048e-6ed8-430b-f85a-b0669b564a51"
      },
      "execution_count": null,
      "outputs": [
        {
          "output_type": "stream",
          "name": "stdout",
          "text": [
            "1000000\n"
          ]
        }
      ]
    },
    {
      "cell_type": "code",
      "source": [
        "class Node:\n",
        "   def __init__(self, data):\n",
        "      self.left = None\n",
        "      self.right = None\n",
        "      self.data = data\n",
        "\n",
        "   def insert(self, data):\n",
        "      # Compare the new value with the parent node\n",
        "      if self.data:\n",
        "        if data < self.data:\n",
        "          if self.left is None:\n",
        "              self.left = Node(data)\n",
        "          else:\n",
        "              self.left.insert(data)\n",
        "        elif data > self.data:\n",
        "              if self.right is None:\n",
        "                self.right = Node(data)\n",
        "              else:\n",
        "                self.right.insert(data)\n",
        "      else:\n",
        "          self.data = data\n",
        "\n",
        "# Print the tree\n",
        "   def PrintTree(self):\n",
        "      if self.left:\n",
        "         self.left.PrintTree()\n",
        "      print( self.data),\n",
        "      if self.right:\n",
        "         self.right.PrintTree()\n",
        "\n",
        "# Use the insert method to add nodes 1000\n",
        "root_1000 = Node(list_1000[0])\n",
        "for i in list_1000:\n",
        "  root_1000.insert(i)\n",
        "\n",
        "queue = [root_1000]\n",
        "values = []\n",
        "\n",
        "while len(queue)!=0:\n",
        "  #Dequeue the first node\n",
        "  currentNode = queue.pop(0)\n",
        "  #Read the node value:\n",
        "  values.append(currentNode.data)\n",
        "  \n",
        "  #Enqueue child nodes (if any)\n",
        "  if currentNode.left!=None:\n",
        "    #Enqueue the left node at the end of the queue:\n",
        "    queue.append(currentNode.left)\n",
        "  if currentNode.right!=None:\n",
        "    #Enqueue the right node at the end of the queue:\n",
        "    queue.append(currentNode.right)\n",
        "\n",
        "value = list_1000[len(list_1000) - 220]"
      ],
      "metadata": {
        "id": "mzFx2UXuy8CI"
      },
      "execution_count": null,
      "outputs": []
    },
    {
      "cell_type": "code",
      "source": [
        "#Binary Search... 1000\n",
        "start = time.time()\n",
        "\n",
        "node = root_1000\n",
        "found=False\n",
        "while node!=None:\n",
        "  if value==node.data:\n",
        "    found=True\n",
        "    print(\"Yeah value found!\")\n",
        "    break\n",
        "  elif value<node.data:\n",
        "    node = node.left\n",
        "  elif value>node.data:\n",
        "    node = node.right\n",
        "  \n",
        "if found==False:\n",
        "  print(\"Not found\")\n",
        "\n",
        "end = time.time()\n",
        "print(end - start)"
      ],
      "metadata": {
        "colab": {
          "base_uri": "https://localhost:8080/"
        },
        "id": "DYVUUk0X0dOe",
        "outputId": "55696819-6789-4b51-9745-f3e57f6b96b3"
      },
      "execution_count": null,
      "outputs": [
        {
          "output_type": "stream",
          "name": "stdout",
          "text": [
            "Yeah value found!\n",
            "0.005559682846069336\n"
          ]
        }
      ]
    },
    {
      "cell_type": "code",
      "source": [
        "#dfs 1000\n",
        "\n",
        "def printInorder(root, goal):\n",
        " \n",
        "    if root:\n",
        " \n",
        "        # First recur on left child\n",
        "        printInorder(root.left, goal)\n",
        " \n",
        "        # then print the data of node\n",
        "        if(root.data == value):\n",
        "          print(\"value found\")\n",
        " \n",
        "        # now recur on right child\n",
        "        printInorder(root.right, goal)\n",
        "\n",
        "start = time.time()\n",
        "printInorder(root_1000, value)\n",
        "end = time.time()\n",
        "print(end - start)"
      ],
      "metadata": {
        "colab": {
          "base_uri": "https://localhost:8080/"
        },
        "id": "Dlh9rBBi0ddo",
        "outputId": "f0dcaaec-d5a4-44a2-bfe0-45fc5820de25"
      },
      "execution_count": null,
      "outputs": [
        {
          "output_type": "stream",
          "name": "stdout",
          "text": [
            "value found\n",
            "0.0029325485229492188\n"
          ]
        }
      ]
    },
    {
      "cell_type": "code",
      "source": [
        "# Use the insert method to add nodes, 40000\n",
        "root_40000 = Node(list_40000[0])\n",
        "for i in list_40000:\n",
        "  root_40000.insert(i)\n",
        "\n",
        "queue = [root_40000]\n",
        "values = []\n",
        "\n",
        "while len(queue)!=0:\n",
        "  #Dequeue the first node\n",
        "  currentNode = queue.pop(0)\n",
        "  #Read the node value:\n",
        "  values.append(currentNode.data)\n",
        "  \n",
        "  #Enqueue child nodes (if any)\n",
        "  if currentNode.left!=None:\n",
        "    #Enqueue the left node at the end of the queue:\n",
        "    queue.append(currentNode.left)\n",
        "  if currentNode.right!=None:\n",
        "    #Enqueue the right node at the end of the queue:\n",
        "    queue.append(currentNode.right)\n",
        "\n",
        "value = list_40000[len(list_40000) - 220]"
      ],
      "metadata": {
        "id": "FP6aJPLk2nJG"
      },
      "execution_count": null,
      "outputs": []
    },
    {
      "cell_type": "code",
      "source": [
        "#Binary Search... 40000\n",
        "start = time.time()\n",
        "\n",
        "node = root_40000\n",
        "found=False\n",
        "while node!=None:\n",
        "  if value==node.data:\n",
        "    found=True\n",
        "    print(\"Yeah value found!\")\n",
        "    break\n",
        "  elif value<node.data:\n",
        "    node = node.left\n",
        "  elif value>node.data:\n",
        "    node = node.right\n",
        "  \n",
        "if found==False:\n",
        "  print(\"Not found\")\n",
        "\n",
        "end = time.time()\n",
        "print(end - start)"
      ],
      "metadata": {
        "colab": {
          "base_uri": "https://localhost:8080/"
        },
        "id": "xdYOf44u2yQE",
        "outputId": "3cecce37-52c1-42ba-e8cf-77501d65388b"
      },
      "execution_count": null,
      "outputs": [
        {
          "output_type": "stream",
          "name": "stdout",
          "text": [
            "Yeah value found!\n",
            "0.0020186901092529297\n"
          ]
        }
      ]
    },
    {
      "cell_type": "code",
      "source": [
        "#dfs 40000\n",
        "\n",
        "def printInorder(root, goal):\n",
        " \n",
        "    if root:\n",
        " \n",
        "        # First recur on left child\n",
        "        printInorder(root.left, goal)\n",
        " \n",
        "        # then print the data of node\n",
        "        if(root.data == value):\n",
        "          print(\"value found\")\n",
        " \n",
        "        # now recur on right child\n",
        "        printInorder(root.right, goal)\n",
        "\n",
        "start = time.time()\n",
        "printInorder(root_40000, value)\n",
        "end = time.time()\n",
        "print(end - start)"
      ],
      "metadata": {
        "colab": {
          "base_uri": "https://localhost:8080/"
        },
        "id": "fZi31pjQ2ymq",
        "outputId": "5b5a37e9-8872-42a5-9d9f-b3760e78b58b"
      },
      "execution_count": null,
      "outputs": [
        {
          "output_type": "stream",
          "name": "stdout",
          "text": [
            "value found\n",
            "0.06581926345825195\n"
          ]
        }
      ]
    },
    {
      "cell_type": "code",
      "source": [
        "# Use the insert method to add nodes, 80000\n",
        "root_80000 = Node(list_80000[0])\n",
        "for i in list_80000:\n",
        "  root_80000.insert(i)\n",
        "\n",
        "queue = [root_80000]\n",
        "values = []\n",
        "\n",
        "while len(queue)!=0:\n",
        "  #Dequeue the first node\n",
        "  currentNode = queue.pop(0)\n",
        "  #Read the node value:\n",
        "  values.append(currentNode.data)\n",
        "  \n",
        "  #Enqueue child nodes (if any)\n",
        "  if currentNode.left!=None:\n",
        "    #Enqueue the left node at the end of the queue:\n",
        "    queue.append(currentNode.left)\n",
        "  if currentNode.right!=None:\n",
        "    #Enqueue the right node at the end of the queue:\n",
        "    queue.append(currentNode.right)\n",
        "\n",
        "value = list_80000[len(list_80000) - 220]"
      ],
      "metadata": {
        "id": "Iz1HKV973XMg"
      },
      "execution_count": null,
      "outputs": []
    },
    {
      "cell_type": "code",
      "source": [
        "#Binary Search... 80000\n",
        "start = time.time()\n",
        "\n",
        "node = root_80000\n",
        "found=False\n",
        "while node!=None:\n",
        "  if value==node.data:\n",
        "    found=True\n",
        "    print(\"Yeah value found!\")\n",
        "    break\n",
        "  elif value<node.data:\n",
        "    node = node.left\n",
        "  elif value>node.data:\n",
        "    node = node.right\n",
        "  \n",
        "if found==False:\n",
        "  print(\"Not found\")\n",
        "\n",
        "end = time.time()\n",
        "print(end - start)"
      ],
      "metadata": {
        "colab": {
          "base_uri": "https://localhost:8080/"
        },
        "id": "Qm-ZEpFE3XPg",
        "outputId": "1d250635-0c9f-432e-cbed-f5a53bc9ead7"
      },
      "execution_count": null,
      "outputs": [
        {
          "output_type": "stream",
          "name": "stdout",
          "text": [
            "Yeah value found!\n",
            "0.0006608963012695312\n"
          ]
        }
      ]
    },
    {
      "cell_type": "code",
      "source": [
        "#dfs 80000\n",
        "\n",
        "def printInorder(root, goal):\n",
        " \n",
        "    if root:\n",
        " \n",
        "        # First recur on left child\n",
        "        printInorder(root.left, goal)\n",
        " \n",
        "        # then print the data of node\n",
        "        if(root.data == value):\n",
        "          print(\"value found\")\n",
        " \n",
        "        # now recur on right child\n",
        "        printInorder(root.right, goal)\n",
        "\n",
        "start = time.time()\n",
        "printInorder(root_80000, value)\n",
        "end = time.time()\n",
        "print(end - start)"
      ],
      "metadata": {
        "colab": {
          "base_uri": "https://localhost:8080/"
        },
        "id": "Knq5tg1O3XTC",
        "outputId": "9e3d2732-334f-4544-fb7e-0e66baecbb3a"
      },
      "execution_count": null,
      "outputs": [
        {
          "output_type": "stream",
          "name": "stdout",
          "text": [
            "value found\n",
            "0.11291956901550293\n"
          ]
        }
      ]
    },
    {
      "cell_type": "code",
      "source": [
        "# Use the insert method to add nodes, 200000\n",
        "root_200000 = Node(list_200000[0])\n",
        "for i in list_200000:\n",
        "  root_200000.insert(i)\n",
        "\n",
        "queue = [root_200000]\n",
        "values = []\n",
        "\n",
        "while len(queue)!=0:\n",
        "  #Dequeue the first node\n",
        "  currentNode = queue.pop(0)\n",
        "  #Read the node value:\n",
        "  values.append(currentNode.data)\n",
        "  \n",
        "  #Enqueue child nodes (if any)\n",
        "  if currentNode.left!=None:\n",
        "    #Enqueue the left node at the end of the queue:\n",
        "    queue.append(currentNode.left)\n",
        "  if currentNode.right!=None:\n",
        "    #Enqueue the right node at the end of the queue:\n",
        "    queue.append(currentNode.right)\n",
        "\n",
        "value = list_200000[len(list_200000) - 220]"
      ],
      "metadata": {
        "id": "IUlXq76I4LFL"
      },
      "execution_count": null,
      "outputs": []
    },
    {
      "cell_type": "code",
      "source": [
        "#Binary Search... 200000\n",
        "start = time.time()\n",
        "\n",
        "node = root_200000\n",
        "found=False\n",
        "while node!=None:\n",
        "  if value==node.data:\n",
        "    found=True\n",
        "    print(\"Yeah value found!\")\n",
        "    break\n",
        "  elif value<node.data:\n",
        "    node = node.left\n",
        "  elif value>node.data:\n",
        "    node = node.right\n",
        "  \n",
        "if found==False:\n",
        "  print(\"Not found\")\n",
        "\n",
        "end = time.time()\n",
        "print(end - start)"
      ],
      "metadata": {
        "colab": {
          "base_uri": "https://localhost:8080/"
        },
        "id": "N-P18Qdf4LIS",
        "outputId": "a69a0ae9-6601-4cfa-df46-ab9c44263368"
      },
      "execution_count": null,
      "outputs": [
        {
          "output_type": "stream",
          "name": "stdout",
          "text": [
            "Yeah value found!\n",
            "0.004961490631103516\n"
          ]
        }
      ]
    },
    {
      "cell_type": "code",
      "source": [
        "#dfs 200000\n",
        "\n",
        "def printInorder(root, goal):\n",
        " \n",
        "    if root:\n",
        " \n",
        "        # First recur on left child\n",
        "        printInorder(root.left, goal)\n",
        " \n",
        "        # then print the data of node\n",
        "        if(root.data == value):\n",
        "          print(\"value found\")\n",
        " \n",
        "        # now recur on right child\n",
        "        printInorder(root.right, goal)\n",
        "\n",
        "start = time.time()\n",
        "printInorder(root_200000, value)\n",
        "end = time.time()\n",
        "print(end - start)"
      ],
      "metadata": {
        "colab": {
          "base_uri": "https://localhost:8080/"
        },
        "id": "vyHUGB7r4LLt",
        "outputId": "dd3a6c50-e3a4-4e34-930b-3b8cac3e49a3"
      },
      "execution_count": null,
      "outputs": [
        {
          "output_type": "stream",
          "name": "stdout",
          "text": [
            "value found\n",
            "0.2817249298095703\n"
          ]
        }
      ]
    },
    {
      "cell_type": "code",
      "source": [
        "# Use the insert method to add nodes, 1000000\n",
        "root_1000000 = Node(list_1000000[0])\n",
        "for i in list_1000000:\n",
        "  root_1000000.insert(i)\n",
        "\n",
        "queue = [root_1000000]\n",
        "values = []\n",
        "\n",
        "while len(queue)!=0:\n",
        "  #Dequeue the first node\n",
        "  currentNode = queue.pop(0)\n",
        "  #Read the node value:\n",
        "  values.append(currentNode.data)\n",
        "  \n",
        "  #Enqueue child nodes (if any)\n",
        "  if currentNode.left!=None:\n",
        "    #Enqueue the left node at the end of the queue:\n",
        "    queue.append(currentNode.left)\n",
        "  if currentNode.right!=None:\n",
        "    #Enqueue the right node at the end of the queue:\n",
        "    queue.append(currentNode.right)\n",
        "\n",
        "value = list_1000000[len(list_1000000) - 220]"
      ],
      "metadata": {
        "id": "DUcXIYLs6HdS"
      },
      "execution_count": null,
      "outputs": []
    },
    {
      "cell_type": "code",
      "source": [
        "#Binary Search... 1000000\n",
        "start = time.time()\n",
        "\n",
        "node = root_1000000\n",
        "found=False\n",
        "while node!=None:\n",
        "  if value==node.data:\n",
        "    found=True\n",
        "    print(\"Yeah value found!\")\n",
        "    break\n",
        "  elif value<node.data:\n",
        "    node = node.left\n",
        "  elif value>node.data:\n",
        "    node = node.right\n",
        "  \n",
        "if found==False:\n",
        "  print(\"Not found\")\n",
        "\n",
        "end = time.time()\n",
        "print(end - start)"
      ],
      "metadata": {
        "id": "DhiDeOVx6Hms",
        "colab": {
          "base_uri": "https://localhost:8080/"
        },
        "outputId": "b3eb47ac-11f6-44f0-9417-406da4b835f5"
      },
      "execution_count": null,
      "outputs": [
        {
          "output_type": "stream",
          "name": "stdout",
          "text": [
            "Yeah value found!\n",
            "0.002933502197265625\n"
          ]
        }
      ]
    },
    {
      "cell_type": "code",
      "source": [
        "#dfs 1000000\n",
        "\n",
        "def printInorder(root, goal):\n",
        " \n",
        "    if root:\n",
        " \n",
        "        # First recur on left child\n",
        "        printInorder(root.left, goal)\n",
        " \n",
        "        # then print the data of node\n",
        "        if(root.data == value):\n",
        "          print(\"value found\")\n",
        " \n",
        "        # now recur on right child\n",
        "        printInorder(root.right, goal)\n",
        "\n",
        "start = time.time()\n",
        "printInorder(root_1000000, value)\n",
        "end = time.time()\n",
        "print(end - start)"
      ],
      "metadata": {
        "id": "8DrRj7W86Hz0",
        "colab": {
          "base_uri": "https://localhost:8080/"
        },
        "outputId": "eb0297a3-136e-40c0-ef91-1f7bda0b9d54"
      },
      "execution_count": null,
      "outputs": [
        {
          "output_type": "stream",
          "name": "stdout",
          "text": [
            "value found\n",
            "1.326563835144043\n"
          ]
        }
      ]
    },
    {
      "cell_type": "code",
      "source": [
        "#DataFrame\n",
        "data = [[1000, 0.005559682846069336, 0.0029325485229492188], [40000, 0.0020186901092529297, 0.06581926345825195], [80000, 0.0006608963012695312, 0.11291956901550293], [200000, 0.004961490631103516, 0.2817249298095703], [1000000, 0.002933502197265625, 1.326563835144043]]\n",
        "\n",
        "df = pd.DataFrame(data, columns = [\"Tree Size\", \"BFS Time\", \"DFS Time\"])\n",
        "print(df)"
      ],
      "metadata": {
        "id": "itbHWa0_2j-1",
        "colab": {
          "base_uri": "https://localhost:8080/"
        },
        "outputId": "a71f973d-8bb2-4a77-d0e5-f227b6291e59"
      },
      "execution_count": null,
      "outputs": [
        {
          "output_type": "stream",
          "name": "stdout",
          "text": [
            "   Tree Size  BFS Time  DFS Time\n",
            "0       1000  0.005560  0.002933\n",
            "1      40000  0.002019  0.065819\n",
            "2      80000  0.000661  0.112920\n",
            "3     200000  0.004961  0.281725\n",
            "4    1000000  0.002934  1.326564\n"
          ]
        }
      ]
    },
    {
      "cell_type": "code",
      "source": [
        "#Plot\n",
        "ax = df.plot.bar(x='Tree Size', y='BFS Time', rot=0)\n",
        "ax = df.plot.bar(x='Tree Size', y='DFS Time', rot=0)"
      ],
      "metadata": {
        "colab": {
          "base_uri": "https://localhost:8080/",
          "height": 541
        },
        "id": "YpRurMfSqCP8",
        "outputId": "faf54fda-f0d5-440f-b71e-f4bb9cc56733"
      },
      "execution_count": null,
      "outputs": [
        {
          "output_type": "display_data",
          "data": {
            "text/plain": [
              "<Figure size 432x288 with 1 Axes>"
            ],
            "image/png": "[encoded data removed]"
          },
          "metadata": {
            "needs_background": "light"
          }
        },
        {
          "output_type": "display_data",
          "data": {
            "text/plain": [
              "<Figure size 432x288 with 1 Axes>"
            ],
            "image/png": "[encoded data removed]"
          },
          "metadata": {
            "needs_background": "light"
          }
        }
      ]
    },
    {
      "cell_type": "code",
      "source": [],
      "metadata": {
        "id": "Ni_woReUqgcY"
      },
      "execution_count": null,
      "outputs": []
    }
  ]
}