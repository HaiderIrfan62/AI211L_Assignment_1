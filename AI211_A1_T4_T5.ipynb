{
  "nbformat": 4,
  "nbformat_minor": 0,
  "metadata": {
    "colab": {
      "provenance": []
    },
    "kernelspec": {
      "name": "python3",
      "display_name": "Python 3"
    },
    "language_info": {
      "name": "python"
    }
  },
  "cells": [
    {
      "cell_type": "code",
      "execution_count": null,
      "metadata": {
        "colab": {
          "base_uri": "https://localhost:8080/"
        },
        "id": "Y_18XFYo_MFd",
        "outputId": "c39743cc-a1c0-471f-a8a3-4cbe6d7ff504"
      },
      "outputs": [
        {
          "output_type": "stream",
          "name": "stdout",
          "text": [
            "Shortest distance is 2\n",
            "And the path is ['a', 'b', 'c']\n"
          ]
        }
      ],
      "source": [
        "def dijkstra(graph, src):\n",
        "    # The only criterium of adding a node to queue is if its distance has changed at the current step.\n",
        "    queue = [src]\n",
        "    minDistances = {v: float(\"inf\") for v in graph}\n",
        "    minDistances[src] = 0\n",
        "    predecessor = {}\n",
        "\n",
        "    while queue:\n",
        "        currentNode = queue.pop(0)\n",
        "        for neighbor in graph[currentNode]:\n",
        "            # get potential newDist from start to neighbor\n",
        "            newDist = minDistances[currentNode] + graph[currentNode][neighbor]\n",
        "            \n",
        "            # if the newDist is shorter to reach neighbor updated to newDist\n",
        "            if newDist < minDistances[neighbor]:\n",
        "                minDistances[neighbor] = min(newDist, minDistances[neighbor])\n",
        "                queue.append(neighbor)\n",
        "                predecessor[neighbor] = currentNode\n",
        "\n",
        "    return minDistances, predecessor\n",
        "\n",
        "\n",
        "\n",
        "def UCS(graph, src, dest):\n",
        "    minDistances, predecessor = dijkstra(graph, src)\n",
        "    \n",
        "    path = []\n",
        "    currentNode = dest\n",
        "    while currentNode != src:\n",
        "        if currentNode not in predecessor:\n",
        "            print(\"Path not reachable\")\n",
        "            break\n",
        "        else:\n",
        "            path.insert(0, currentNode)\n",
        "            currentNode = predecessor[currentNode]\n",
        "    path.insert(0, src)\n",
        "    \n",
        "    if dest in minDistances and minDistances[dest] != float(\"inf\"):\n",
        "        print('Shortest distance is ' + str(minDistances[dest]))\n",
        "        print('And the path is ' + str(path))\n",
        "\n",
        "gr = {\n",
        "\t\t'a' : {'b' : 1, 'c' : 4},\n",
        "\t\t'b' : {'c' : 1},\n",
        "\t\t'c' : {}\n",
        "}    \n",
        "UCS(g, 'a', 'c')"
      ]
    },
    {
      "cell_type": "code",
      "source": [
        "def build_dcit(lis):\n",
        "    di  = {}\n",
        "\n",
        "    for i in lis:\n",
        "        name = i[0]\n",
        "        cost = i[1]\n",
        "        di[name] = cost\n",
        "    return di\n",
        "\n",
        "dd = {'s':[('a',3,13),('b',2,12),('c',4,14)],\n",
        "    'a':[('d',1,12)],\n",
        "    'b':[('e',8,5),('f',7,4),('d',1,12)],\n",
        "    'c':[('e',1,5),('j',3,15)],\n",
        "    'd':[('f',1,4),('h',1,3)],\n",
        "    'e':[('g',1,0)],\n",
        "    'f':[('g',5,0)],\n",
        "    'h':[('g',1,0),('f',3,4)],\n",
        "    'j':[('e',2,5)],\n",
        "    'g':[]}\n",
        "\n",
        "build_dcit(dd.get('b'))"
      ],
      "metadata": {
        "colab": {
          "base_uri": "https://localhost:8080/"
        },
        "id": "TCFc91lr_iNt",
        "outputId": "17536bc6-84ac-46c9-fd38-08abb9fe72ec"
      },
      "execution_count": null,
      "outputs": [
        {
          "output_type": "execute_result",
          "data": {
            "text/plain": [
              "{'e': 8, 'f': 7, 'd': 1}"
            ]
          },
          "metadata": {},
          "execution_count": 4
        }
      ]
    },
    {
      "cell_type": "code",
      "source": [
        "graph = {\n",
        "         'Arad': [('Sibiu', 140), ('Timisoara', 118), ('Zerind', 75)],\n",
        "         'Sibiu': [('Arad', 140), ('Oradea', 151), ('Fagaras', 99), ('Rimnicu', 80)],\n",
        "         'Timisoara': [('Arad', 118), ('Lugoj', 111)],\n",
        "         'Zerind': [('Arad', 75), ('Oradea', 71)],\n",
        "         'Oradea': [('Zerind', 71), ('Sibiu', 151)],\n",
        "         'Fagaras': [('Sibiu', 99), ('Bucharest', 211)],\n",
        "         'Rimnicu': [('Sibiu', 80), ('Craivo', 146), ('Pitesti', 97)],\n",
        "         'Lugoj': [('Timisoara', 111), ('Mehadia', 70)],\n",
        "         'Bucharest': [('Giurgiu', 90), ('Urziceni', 85), ('Pitesti', 101), ('Fagaras', 211)],\n",
        "         'Craivo': [('Dobreta', 120), ('Pitesti', 138), ('Rimnicu', 146)],\n",
        "         'Pitesti': [('Rimnicu', 97), ('Craivo', 138), ('Bucharest', 101)],\n",
        "         'Mehadia': [('Dobreta', 75), ('Lugoj', 70)],\n",
        "         'Giurgiu': [('Bucharest', 90)],\n",
        "         'Urziceni': [('Bucharest', 85), ('Hirsova', 98), ('Vaslui', 142)],\n",
        "         'Dobreta': [('Mehadia', 75), ('Craivo', 120)],\n",
        "         'Hirsova' : [('Eforie', 86), ('Urziceni', 98)],\n",
        "         'Vaslui' : [('Urziceni', 142), ('Lasi', 92)],\n",
        "         'Eforie' : [('Hirsova', 86)],\n",
        "         'Lasi': [('Neamt', 87), ('Vaslui', 92)],\n",
        "         'Neamt': [('Lasi', 87)],\n",
        "}\n",
        "\n",
        "arad_graph = {\n",
        "         'Arad': {'Sibiu' : 140, 'Timisoara' : 118, 'Zerind' : 75},\n",
        "         'Sibiu': {'Arad' : 140, 'Oradea' : 151, 'Fagaras' : 99, 'Rimnicu' : 80},\n",
        "         'Timisoara': {'Arad' : 118, 'Lugoj' : 111},\n",
        "         'Zerind': {'Arad' : 75, 'Oradea' : 71},\n",
        "         'Oradea': {'Zerind' : 71, 'Sibiu' : 151},\n",
        "         'Fagaras': {'Sibiu' : 99, 'Bucharest' : 211},\n",
        "         'Rimnicu': {'Sibiu' : 80, 'Craivo' : 146, 'Pitesti' : 97},\n",
        "         'Lugoj': {'Timisoara' : 111, 'Mehadia' : 70},\n",
        "         'Bucharest': {'Giurgiu' : 90, 'Urziceni' : 85, 'Pitesti' : 101, 'Fagaras' : 211},\n",
        "         'Craivo': {'Dobreta' : 120, 'Pitesti' : 138, 'Rimnicu' : 146},\n",
        "         'Pitesti': {'Rimnicu' : 97, 'Craivo' : 138, 'Bucharest' : 101},\n",
        "         'Mehadia': {'Dobreta' : 75, 'Lugoj' : 70},\n",
        "         'Giurgiu': {'Bucharest' : 90},\n",
        "         'Urziceni': {'Bucharest' : 85, 'Hirsova' : 98, 'Vaslui' : 142},\n",
        "         'Dobreta': {'Mehadia' : 75, 'Craivo' : 120},\n",
        "         'Hirsova' : {'Eforie' : 86, 'Urziceni' : 98},\n",
        "         'Vaslui' : {'Urziceni' : 142, 'Lasi' : 92},\n",
        "         'Eforie' : {'Hirsova' : 86},\n",
        "         'Lasi': {'Neamt' : 87, 'Vaslui' : 92},\n",
        "         'Neamt': {'Lasi' : 87},\n",
        "}"
      ],
      "metadata": {
        "id": "VwMv5U3ZHbkF"
      },
      "execution_count": null,
      "outputs": []
    },
    {
      "cell_type": "code",
      "source": [
        "def dijkstra(graph, src):\n",
        "    # The only criterium of adding a node to queue is if its distance has changed at the current step.\n",
        "    queue = [src]\n",
        "    minDistances = {v: float(\"inf\") for v in graph}\n",
        "    minDistances[src] = 0\n",
        "    predecessor = {}\n",
        "\n",
        "    while queue:\n",
        "        currentNode = queue.pop(0)\n",
        "        for neighbor in graph[currentNode]:\n",
        "            # get potential newDist from start to neighbor\n",
        "            newDist = minDistances[currentNode] + graph[currentNode][neighbor]\n",
        "            \n",
        "            # if the newDist is shorter to reach neighbor updated to newDist\n",
        "            if newDist < minDistances[neighbor]:\n",
        "                minDistances[neighbor] = min(newDist, minDistances[neighbor])\n",
        "                queue.append(neighbor)\n",
        "                predecessor[neighbor] = currentNode\n",
        "\n",
        "    return minDistances, predecessor\n",
        "\n",
        "shortest_path_cost, predecessor = dijkstra(arad_graph, 'Arad')\n",
        "\n",
        "def UCS(graph, src, dest):\n",
        "    minDistances, predecessor = dijkstra(graph, src)\n",
        "    \n",
        "    path = []\n",
        "    currentNode = dest\n",
        "    while currentNode != src:\n",
        "        if currentNode not in predecessor:\n",
        "            print(\"Path not reachable\")\n",
        "            break\n",
        "        else:\n",
        "            path.insert(0, currentNode)\n",
        "            currentNode = predecessor[currentNode]\n",
        "    path.insert(0, src)\n",
        "    \n",
        "    if dest in minDistances and minDistances[dest] != float(\"inf\"):\n",
        "        print('Shortest distance is ' + str(minDistances[dest]))\n",
        "        print('And the path is ' + str(path))\n",
        "        \n",
        "UCS(arad_graph, 'Arad', 'Vaslui')"
      ],
      "metadata": {
        "id": "gkqENIsHHwjD",
        "colab": {
          "base_uri": "https://localhost:8080/"
        },
        "outputId": "6e4be385-6eba-48ea-c87e-7826116f2b08"
      },
      "execution_count": null,
      "outputs": [
        {
          "output_type": "stream",
          "name": "stdout",
          "text": [
            "Shortest distance is 645\n",
            "And the path is ['Arad', 'Sibiu', 'Rimnicu', 'Pitesti', 'Bucharest', 'Urziceni', 'Vaslui']\n"
          ]
        }
      ]
    },
    {
      "cell_type": "code",
      "source": [
        "import networkx as nx"
      ],
      "metadata": {
        "id": "Hh5mZ6BJs5vH"
      },
      "execution_count": null,
      "outputs": []
    },
    {
      "cell_type": "code",
      "source": [
        "g = nx.DiGraph(gr)\n",
        "nx.draw(g)"
      ],
      "metadata": {
        "colab": {
          "base_uri": "https://localhost:8080/",
          "height": 319
        },
        "id": "gzOhY65kzhQs",
        "outputId": "91b0d7af-1b18-4e57-a3ec-f374a618f0e1"
      },
      "execution_count": null,
      "outputs": [
        {
          "output_type": "display_data",
          "data": {
            "text/plain": [
              "<Figure size 432x288 with 1 Axes>"
            ],
            "image/png": "[encoded data removed]"
          },
          "metadata": {}
        }
      ]
    },
    {
      "cell_type": "code",
      "source": [
        "g = nx.DiGraph(arad_graph)\n",
        "nx.draw(g, with_labels = True)"
      ],
      "metadata": {
        "colab": {
          "base_uri": "https://localhost:8080/",
          "height": 319
        },
        "id": "uIWsL9k0zqku",
        "outputId": "44c36fcf-f53d-4f17-dcb9-45d00eedd569"
      },
      "execution_count": null,
      "outputs": [
        {
          "output_type": "display_data",
          "data": {
            "text/plain": [
              "<Figure size 432x288 with 1 Axes>"
            ],
            "image/png": "[encoded data removed]"
          },
          "metadata": {}
        }
      ]
    },
    {
      "cell_type": "code",
      "source": [],
      "metadata": {
        "id": "Gc-Ptgcm0c0n"
      },
      "execution_count": null,
      "outputs": []
    }
  ]
}