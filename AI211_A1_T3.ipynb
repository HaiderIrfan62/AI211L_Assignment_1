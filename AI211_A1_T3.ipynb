{
 "cells": [
  {
   "cell_type": "code",
   "execution_count": 1,
   "id": "00d163dc",
   "metadata": {},
   "outputs": [
    {
     "name": "stdout",
     "output_type": "stream",
     "text": [
      "Hello World\n"
     ]
    }
   ],
   "source": [
    "print(\"Hello World\")"
   ]
  },
  {
   "cell_type": "code",
   "execution_count": 2,
   "id": "a7d15c6f",
   "metadata": {},
   "outputs": [
    {
     "name": "stdout",
     "output_type": "stream",
     "text": [
      "Collecting binarytree\n",
      "  Downloading binarytree-6.5.1-py3-none-any.whl (18 kB)\n",
      "Requirement already satisfied: setuptools>=60.8.2 in c:\\users\\ifran\\anaconda3\\lib\\site-packages (from binarytree) (61.2.0)\n",
      "Collecting setuptools-scm[toml]>=5.0.1\n",
      "  Downloading setuptools_scm-7.1.0-py3-none-any.whl (43 kB)\n",
      "Collecting graphviz\n",
      "  Downloading graphviz-0.20.1-py3-none-any.whl (47 kB)Note: you may need to restart the kernel to use updated packages.\n",
      "\n",
      "Requirement already satisfied: typing-extensions in c:\\users\\ifran\\anaconda3\\lib\\site-packages (from setuptools-scm[toml]>=5.0.1->binarytree) (4.5.0)\n",
      "Requirement already satisfied: tomli>=1.0.0 in c:\\users\\ifran\\anaconda3\\lib\\site-packages (from setuptools-scm[toml]>=5.0.1->binarytree) (1.2.2)\n",
      "Requirement already satisfied: packaging>=20.0 in c:\\users\\ifran\\anaconda3\\lib\\site-packages (from setuptools-scm[toml]>=5.0.1->binarytree) (21.3)\n",
      "Requirement already satisfied: pyparsing!=3.0.5,>=2.0.2 in c:\\users\\ifran\\anaconda3\\lib\\site-packages (from packaging>=20.0->setuptools-scm[toml]>=5.0.1->binarytree) (3.0.4)\n",
      "Installing collected packages: setuptools-scm, graphviz, binarytree\n",
      "Successfully installed binarytree-6.5.1 graphviz-0.20.1 setuptools-scm-7.1.0\n"
     ]
    }
   ],
   "source": [
    "pip install binarytree"
   ]
  },
  {
   "cell_type": "code",
   "execution_count": 4,
   "id": "45c7e768",
   "metadata": {},
   "outputs": [],
   "source": [
    "from binarytree import Node"
   ]
  },
  {
   "cell_type": "code",
   "execution_count": 6,
   "id": "7bff692e",
   "metadata": {},
   "outputs": [
    {
     "name": "stdout",
     "output_type": "stream",
     "text": [
      "\n",
      "                  _256_____________\n",
      "                 /                 \\\n",
      "              _128                _512_\n",
      "             /                   /     \\\n",
      "           _64                _400     600_\n",
      "          /                  /             \\\n",
      "        _32               _200             1000_\n",
      "       /                 /                      \\\n",
      "      16               100                      1200\n",
      "     /\n",
      "    8\n",
      "   /\n",
      "  4\n",
      " /\n",
      "2\n",
      "\n"
     ]
    }
   ],
   "source": [
    "root = Node(256)\n",
    "root.left = Node(128)\n",
    "root.left.left = Node(64)\n",
    "root.left.left.left = Node(32)\n",
    "root.left.left.left.left = Node(16)\n",
    "root.left.left.left.left.left = Node(8)\n",
    "root.left.left.left.left.left.left = Node(4)\n",
    "root.left.left.left.left.left.left.left = Node(2)\n",
    "root.right = Node(512)\n",
    "root.right.left = Node(400)\n",
    "root.right.left.left = Node(200)\n",
    "root.right.left.left.left = Node(100)\n",
    "root.right.right = Node(600)\n",
    "root.right.right.right = Node(1000)\n",
    "root.right.right.right.right = Node(1200)\n",
    "\n",
    "print(root)"
   ]
  },
  {
   "cell_type": "code",
   "execution_count": 7,
   "id": "5f7bf1d1",
   "metadata": {},
   "outputs": [
    {
     "name": "stdout",
     "output_type": "stream",
     "text": [
      "Collecting anytree\n",
      "  Downloading anytree-2.8.0-py2.py3-none-any.whl (41 kB)\n",
      "Requirement already satisfied: six>=1.9.0 in c:\\users\\ifran\\anaconda3\\lib\\site-packages (from anytree) (1.16.0)\n",
      "Installing collected packages: anytree\n",
      "Successfully installed anytree-2.8.0\n",
      "Note: you may need to restart the kernel to use updated packages.\n"
     ]
    }
   ],
   "source": [
    "pip install anytree"
   ]
  },
  {
   "cell_type": "code",
   "execution_count": 36,
   "id": "e0c3c6f5",
   "metadata": {},
   "outputs": [
    {
     "name": "stdout",
     "output_type": "stream",
     "text": [
      "256\n",
      "├── 128\n",
      "│   └── 64\n",
      "│       └── 32\n",
      "│           └── 16\n",
      "│               └── 8\n",
      "│                   └── 4\n",
      "│                       └── 2\n",
      "└── 512\n",
      "    ├── 400\n",
      "    │   └── 200\n",
      "    │       └── 100\n",
      "    └── 600\n",
      "        └── 1000\n",
      "            └── 1200\n"
     ]
    }
   ],
   "source": [
    "from anytree import Node, RenderTree\n",
    "from anytree.exporter import UniqueDotExporter\n",
    "\n",
    "root = Node(256)\n",
    "rl = Node(128, parent = root)\n",
    "rll = Node(64, parent = rl)\n",
    "rlll = Node(32, parent = rll)\n",
    "rllll = Node(16, parent = rlll)\n",
    "rlllll = Node(8, parent = rllll)\n",
    "rllllll = Node(4, parent = rlllll)\n",
    "rlllllll = Node(2, parent = rllllll)\n",
    "rr = Node(512, parent = root)\n",
    "rrl = Node(400, parent = rr)\n",
    "rrll = Node(200, parent = rrl)\n",
    "rrlll = Node(100, parent = rrll)\n",
    "rrr = Node(600, parent = rr)\n",
    "rrrr = Node(1000, parent = rrr)\n",
    "rrrrr = Node(1200, parent = rrrr)\n",
    "\n",
    "#1st method\n",
    "for pre, fill, node in RenderTree(root):\n",
    "    print(\"%s%s\" % (pre, node.name))\n",
    "    \n",
    "#2nd method\n",
    "from anytree.exporter import DotExporter\n",
    "# graphviz needs to be installed for the next line!\n",
    "#UniqueDotExporter(root).to_picture(\"root.png\")\n"
   ]
  },
  {
   "cell_type": "code",
   "execution_count": 30,
   "id": "79be8c61",
   "metadata": {},
   "outputs": [
    {
     "name": "stdout",
     "output_type": "stream",
     "text": [
      "Collecting treelib\n",
      "  Downloading treelib-1.6.1.tar.gz (24 kB)\n",
      "Requirement already satisfied: future in c:\\users\\ifran\\anaconda3\\lib\\site-packages (from treelib) (0.18.2)\n",
      "Building wheels for collected packages: treelib\n",
      "  Building wheel for treelib (setup.py): started\n",
      "  Building wheel for treelib (setup.py): finished with status 'done'\n",
      "  Created wheel for treelib: filename=treelib-1.6.1-py3-none-any.whl size=18385 sha256=ea3d1edcfffde1f7f9d025bc3955e203695e798d4462f2b525516c444411db2c\n",
      "  Stored in directory: c:\\users\\ifran\\appdata\\local\\pip\\cache\\wheels\\43\\de\\32\\fd270cc5f06de2bebcdaa666e9350b95f54d983212a7aba9ad\n",
      "Successfully built treelib\n",
      "Installing collected packages: treelib\n",
      "Successfully installed treelib-1.6.1\n",
      "Note: you may need to restart the kernel to use updated packages.\n"
     ]
    }
   ],
   "source": [
    "pip install treelib"
   ]
  },
  {
   "cell_type": "code",
   "execution_count": 33,
   "id": "13afcac8",
   "metadata": {},
   "outputs": [],
   "source": [
    "from treelib import Tree, Node"
   ]
  },
  {
   "cell_type": "code",
   "execution_count": 37,
   "id": "3d198447",
   "metadata": {},
   "outputs": [
    {
     "name": "stdout",
     "output_type": "stream",
     "text": [
      "256\n",
      "├── 128\n",
      "│   └── 64\n",
      "│       └── 32\n",
      "│           └── 16\n",
      "│               └── 8\n",
      "│                   └── 4\n",
      "│                       └── 2\n",
      "└── 512\n",
      "    ├── 400\n",
      "    │   └── 200\n",
      "    │       └── 100\n",
      "    └── 600\n",
      "        └── 1000\n",
      "            └── 1200\n",
      "\n"
     ]
    }
   ],
   "source": [
    "tree = Tree()\n",
    "tree.create_node(256, 256)\n",
    "tree.create_node(128, 128, parent = 256)\n",
    "tree.create_node(64, 64, parent = 128)\n",
    "tree.create_node(32, 32, parent = 64)\n",
    "tree.create_node(16, 16, parent = 32)\n",
    "tree.create_node(8, 8, parent = 16)\n",
    "tree.create_node(4, 4, parent = 8)\n",
    "tree.create_node(2, 2, parent = 4)\n",
    "tree.create_node(512, 512, parent = 256)\n",
    "tree.create_node(400, 400, parent = 512)\n",
    "tree.create_node(200, 200, parent = 400)\n",
    "tree.create_node(100, 100, parent = 200)\n",
    "tree.create_node(600, 600, parent = 512)\n",
    "tree.create_node(1000, 1000, parent = 600)\n",
    "tree.create_node(1200, 1200, parent = 1000)\n",
    "\n",
    "tree.show()"
   ]
  },
  {
   "cell_type": "code",
   "execution_count": 38,
   "id": "0c031314",
   "metadata": {},
   "outputs": [
    {
     "name": "stdout",
     "output_type": "stream",
     "text": [
      "Note: you may need to restart the kernel to use updated packages.Collecting turtle\n",
      "\n",
      "  Downloading turtle-0.0.2.tar.gz (11 kB)\n",
      "  Downloading turtle-0.0.1.tar.gz (10 kB)\n",
      "Requirement already satisfied: PyYAML>=3.08 in c:\\users\\ifran\\anaconda3\\lib\\site-packages (from turtle) (6.0)\n",
      "Building wheels for collected packages: turtle\n",
      "  Building wheel for turtle (setup.py): started\n",
      "  Building wheel for turtle (setup.py): finished with status 'done'\n",
      "  Created wheel for turtle: filename=turtle-0.0.1-py3-none-any.whl size=22201 sha256=f4f3402536e7047612be599b44905770756fdf9679978f83c282554110d4a094\n",
      "  Stored in directory: c:\\users\\ifran\\appdata\\local\\pip\\cache\\wheels\\1a\\8b\\a8\\3def5d06272e9213d7691d137f65864acf0b855c476890874e\n",
      "Successfully built turtle\n",
      "Installing collected packages: turtle\n",
      "Successfully installed turtle-0.0.1\n"
     ]
    },
    {
     "name": "stderr",
     "output_type": "stream",
     "text": [
      "    ERROR: Command errored out with exit status 1:\n",
      "     command: 'C:\\Users\\Ifran\\anaconda3\\python.exe' -c 'import io, os, sys, setuptools, tokenize; sys.argv[0] = '\"'\"'C:\\\\Users\\\\Ifran\\\\AppData\\\\Local\\\\Temp\\\\pip-install-mi0vyuq3\\\\turtle_4382b5f2d7174aefb5a2e414bc1778af\\\\setup.py'\"'\"'; __file__='\"'\"'C:\\\\Users\\\\Ifran\\\\AppData\\\\Local\\\\Temp\\\\pip-install-mi0vyuq3\\\\turtle_4382b5f2d7174aefb5a2e414bc1778af\\\\setup.py'\"'\"';f = getattr(tokenize, '\"'\"'open'\"'\"', open)(__file__) if os.path.exists(__file__) else io.StringIO('\"'\"'from setuptools import setup; setup()'\"'\"');code = f.read().replace('\"'\"'\\r\\n'\"'\"', '\"'\"'\\n'\"'\"');f.close();exec(compile(code, __file__, '\"'\"'exec'\"'\"'))' egg_info --egg-base 'C:\\Users\\Ifran\\AppData\\Local\\Temp\\pip-pip-egg-info-kfcgrioh'\n",
      "         cwd: C:\\Users\\Ifran\\AppData\\Local\\Temp\\pip-install-mi0vyuq3\\turtle_4382b5f2d7174aefb5a2e414bc1778af\\\n",
      "    Complete output (6 lines):\n",
      "    Traceback (most recent call last):\n",
      "      File \"<string>\", line 1, in <module>\n",
      "      File \"C:\\Users\\Ifran\\AppData\\Local\\Temp\\pip-install-mi0vyuq3\\turtle_4382b5f2d7174aefb5a2e414bc1778af\\setup.py\", line 40\n",
      "        except ValueError, ve:\n",
      "                         ^\n",
      "    SyntaxError: invalid syntax\n",
      "    ----------------------------------------\n",
      "WARNING: Discarding https://files.pythonhosted.org/packages/ff/f0/21a42e9e424d24bdd0e509d5ed3c7dfb8f47d962d9c044dba903b0b4a26f/turtle-0.0.2.tar.gz#sha256=edff7868ddfeba60cb2dcc3fb2218f29fd042ab697dcac0723e3e16a330979dd (from https://pypi.org/simple/turtle/). Command errored out with exit status 1: python setup.py egg_info Check the logs for full command output.\n"
     ]
    }
   ],
   "source": [
    "pip install turtle"
   ]
  },
  {
   "cell_type": "code",
   "execution_count": 2,
   "id": "6c5bc5a1",
   "metadata": {},
   "outputs": [],
   "source": [
    "import turtle"
   ]
  },
  {
   "cell_type": "code",
   "execution_count": 17,
   "id": "5aed765f",
   "metadata": {},
   "outputs": [],
   "source": [
    "ttl = turtle.Turtle()"
   ]
  },
  {
   "cell_type": "code",
   "execution_count": 19,
   "id": "d15de929",
   "metadata": {},
   "outputs": [],
   "source": [
    "screen = turtle.Screen()\n",
    "#setting the screen size  \n",
    "screen.setup(400,500)      \n",
    "#setting the background color as pink  \n",
    " \n",
    "#setting the color of the pen to light blue  \n",
    "ttl.pencolor('light blue')      \n",
    "#setting the size of the pen  \n",
    "ttl.pensize(6)      \n",
    "#setting the speed of drawing with the pen  \n",
    "ttl.speed(1.2)     \n",
    "#setting the shape of the pen as turtle  \n",
    "ttl.shape('turtle')     \n",
    "#starting to draw the square  \n",
    "ttl.forward(120)    #top (first) side  \n",
    "ttl.right(90)  \n",
    "ttl.forward(120)    # right (second) side  \n",
    "ttl.right(90)  \n",
    "ttl.forward(120)   # bottom (third) side  \n",
    "ttl.right(90)  \n",
    "ttl.forward(120)   # left (fourth) side  \n",
    "  \n",
    "# Printing the heading on the screen  \n",
    "ttl.penup()  \n",
    "ttl.setpos(-100,90)  \n",
    "ttl.pendown()  \n",
    "ttl.pencolor('white')  \n",
    "ttl.write('Square Animation', font=(\"Arial\", 20, \"bold\"))  \n",
    "ttl.penup()  \n",
    "ttl.ht()  "
   ]
  },
  {
   "cell_type": "code",
   "execution_count": null,
   "id": "3b65389e",
   "metadata": {},
   "outputs": [],
   "source": []
  }
 ],
 "metadata": {
  "kernelspec": {
   "display_name": "Python 3 (ipykernel)",
   "language": "python",
   "name": "python3"
  },
  "language_info": {
   "codemirror_mode": {
    "name": "ipython",
    "version": 3
   },
   "file_extension": ".py",
   "mimetype": "text/x-python",
   "name": "python",
   "nbconvert_exporter": "python",
   "pygments_lexer": "ipython3",
   "version": "3.9.12"
  }
 },
 "nbformat": 4,
 "nbformat_minor": 5
}
