{
  "nbformat": 4,
  "nbformat_minor": 0,
  "metadata": {
    "colab": {
      "provenance": []
    },
    "kernelspec": {
      "name": "python3",
      "display_name": "Python 3"
    },
    "language_info": {
      "name": "python"
    }
  },
  "cells": [
    {
      "cell_type": "code",
      "execution_count": null,
      "metadata": {
        "id": "igH3EUFx6ueh"
      },
      "outputs": [],
      "source": [
        "#Task1"
      ]
    },
    {
      "cell_type": "code",
      "source": [
        "#Tree\n",
        "class Node:\n",
        "   def __init__(self, data):\n",
        "      self.left = None\n",
        "      self.right = None\n",
        "      self.data = data\n",
        "\n",
        "   def insert(self, data):\n",
        "      # Compare the new value with the parent node\n",
        "      if self.data:\n",
        "        if data < self.data:\n",
        "          if self.left is None:\n",
        "              self.left = Node(data)\n",
        "          else:\n",
        "              self.left.insert(data)\n",
        "        elif data > self.data:\n",
        "              if self.right is None:\n",
        "                self.right = Node(data)\n",
        "              else:\n",
        "                self.right.insert(data)\n",
        "      else:\n",
        "          self.data = data\n",
        "\n",
        "# Print the tree\n",
        "   def PrintTree(self):\n",
        "      if self.left:\n",
        "         self.left.PrintTree()\n",
        "      print( self.data),\n",
        "      if self.right:\n",
        "         self.right.PrintTree()\n",
        "\n",
        "list_10 = [43, 23, 56, 3, 12, 54, 99, 121, 31, 52]\n",
        "\n",
        "# Use the insert method to add nodes 1000\n",
        "root_10 = Node(list_10[0])\n",
        "for i in list_10:\n",
        "  root_10.insert(i)\n",
        "\n",
        "queue = [root_10]\n",
        "values = []\n",
        "\n",
        "while len(queue)!=0:\n",
        "  #Dequeue the first node\n",
        "  currentNode = queue.pop(0)\n",
        "  #Read the node value:\n",
        "  values.append(currentNode.data)\n",
        "  \n",
        "  #Enqueue child nodes (if any)\n",
        "  if currentNode.left!=None:\n",
        "    #Enqueue the left node at the end of the queue:\n",
        "    queue.append(currentNode.left)\n",
        "  if currentNode.right!=None:\n",
        "    #Enqueue the right node at the end of the queue:\n",
        "    queue.append(currentNode.right)\n",
        "\n",
        "value = list_10[len(list_10) - 2]"
      ],
      "metadata": {
        "id": "KDgyhbPD6129"
      },
      "execution_count": null,
      "outputs": []
    },
    {
      "cell_type": "code",
      "source": [
        "#bfs on tree\n",
        "node = root_10\n",
        "found=False\n",
        "while node!=None:\n",
        "  if value==node.data:\n",
        "    found=True\n",
        "    print(\"Yeah value found!\")\n",
        "    break\n",
        "  elif value<node.data:\n",
        "    node = node.left\n",
        "  elif value>node.data:\n",
        "    node = node.right\n",
        "  \n",
        "if found==False:\n",
        "  print(\"Not found\")"
      ],
      "metadata": {
        "colab": {
          "base_uri": "https://localhost:8080/"
        },
        "id": "xATEghxk714t",
        "outputId": "841a315e-1804-4f6d-acc3-2d269fd63a3f"
      },
      "execution_count": null,
      "outputs": [
        {
          "output_type": "stream",
          "name": "stdout",
          "text": [
            "Yeah value found!\n"
          ]
        }
      ]
    },
    {
      "cell_type": "code",
      "source": [
        "#dfs on tree\n",
        "def printInorder(root, goal):\n",
        " \n",
        "    if root:\n",
        " \n",
        "        # First recur on left child\n",
        "        printInorder(root.left, goal)\n",
        " \n",
        "        # then print the data of node\n",
        "        if(root.data == value):\n",
        "          print(\"value found\")\n",
        " \n",
        "        # now recur on right child\n",
        "        printInorder(root.right, goal)\n",
        "\n",
        "printInorder(root_10, value)"
      ],
      "metadata": {
        "colab": {
          "base_uri": "https://localhost:8080/"
        },
        "id": "nDUeSVki79-9",
        "outputId": "6830d388-ecf9-462a-97bc-bb400e8e4c43"
      },
      "execution_count": null,
      "outputs": [
        {
          "output_type": "stream",
          "name": "stdout",
          "text": [
            "value found\n"
          ]
        }
      ]
    },
    {
      "cell_type": "code",
      "source": [
        "#Graph\n",
        "# BFS on graph\n",
        "\n",
        "import collections\n",
        "\n",
        "# BFS algorithm\n",
        "def bfs(graph, root):\n",
        "\n",
        "    visited, queue = set(), collections.deque([root])\n",
        "    visited.add(root)\n",
        "\n",
        "    while queue:\n",
        "\n",
        "        # Dequeue a vertex from queue\n",
        "        vertex = queue.popleft()\n",
        "        print(str(vertex) + \" \", end=\"\")\n",
        "\n",
        "        # If not visited, mark it as visited, and\n",
        "        # enqueue it\n",
        "        for neighbour in graph[vertex]:\n",
        "            if neighbour not in visited:\n",
        "                visited.add(neighbour)\n",
        "                queue.append(neighbour)\n",
        "\n",
        "\n",
        "if __name__ == '__main__':\n",
        "    graph = {0: [1, 2], 1: [2], 2: [3], 3: [1, 2]}\n",
        "    print(\"Following is Breadth First Traversal: \")\n",
        "    bfs(graph, 0)\n"
      ],
      "metadata": {
        "colab": {
          "base_uri": "https://localhost:8080/"
        },
        "id": "ZMxhJw5u8Fz6",
        "outputId": "be83803b-bba6-4cb4-e15f-8282b03c3aa0"
      },
      "execution_count": null,
      "outputs": [
        {
          "output_type": "stream",
          "name": "stdout",
          "text": [
            "Following is Breadth First Traversal: \n",
            "0 1 2 3 "
          ]
        }
      ]
    },
    {
      "cell_type": "code",
      "source": [
        "#dfs on graph\n",
        "# DFS algorithm in Python\n",
        "\n",
        "\n",
        "# DFS algorithm\n",
        "def dfs(graph, start, visited=None):\n",
        "    if visited is None:\n",
        "        visited = set()\n",
        "    visited.add(start)\n",
        "\n",
        "    print(start)\n",
        "\n",
        "    for next in graph[start] - visited:\n",
        "        dfs(graph, next, visited)\n",
        "    return visited\n",
        "\n",
        "\n",
        "graph = {'0': set(['1', '2']),\n",
        "         '1': set(['0', '3', '4']),\n",
        "         '2': set(['0']),\n",
        "         '3': set(['1']),\n",
        "         '4': set(['2', '3'])}\n",
        "\n",
        "dfs(graph, '0')"
      ],
      "metadata": {
        "colab": {
          "base_uri": "https://localhost:8080/"
        },
        "id": "mrQlTz8V8ZEt",
        "outputId": "3d7fc52b-7e88-4fe1-b44d-3dc94a583e98"
      },
      "execution_count": null,
      "outputs": [
        {
          "output_type": "stream",
          "name": "stdout",
          "text": [
            "0\n",
            "2\n",
            "1\n",
            "3\n",
            "4\n"
          ]
        },
        {
          "output_type": "execute_result",
          "data": {
            "text/plain": [
              "{'0', '1', '2', '3', '4'}"
            ]
          },
          "metadata": {},
          "execution_count": 7
        }
      ]
    },
    {
      "cell_type": "code",
      "source": [],
      "metadata": {
        "id": "hStcLoBE8pml"
      },
      "execution_count": null,
      "outputs": []
    }
  ]
}